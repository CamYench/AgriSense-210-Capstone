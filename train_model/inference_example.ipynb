{
 "cells": [
  {
   "cell_type": "markdown",
   "metadata": {},
   "source": [
    "# Inference Steps\n",
    "\n",
    "This notebook will describe the necessary data structures required for inference on our model. "
   ]
  },
  {
   "cell_type": "code",
   "execution_count": 56,
   "metadata": {},
   "outputs": [
    {
     "name": "stdout",
     "output_type": "stream",
     "text": [
      "EVI_DATA_DIR.exists() = True\n"
     ]
    }
   ],
   "source": [
    "# imports\n",
    "from pathlib import Path\n",
    "\n",
    "import numpy as np \n",
    "import pandas as pd\n",
    "from shapely import Polygon\n",
    "import matplotlib.pyplot as plt\n",
    "\n",
    "import rasterio\n",
    "from rasterio import plot as rio_plot\n",
    "\n",
    "# inference utils\n",
    "from inference_utils import (\n",
    "    preprocess_image,\n",
    "    compute_mean_std,\n",
    "    load_evi_data_and_prepare_features,\n",
    "    find_closest_date,\n",
    "    find_closest_date_in_df,\n",
    "    mask_evi_data,\n",
    "    predict,\n",
    "    predict_weekly_yield\n",
    ")\n",
    "\n",
    "\n",
    "EVI_DATA_DIR = Path(\"./landsat_evi_monterey_masked\")\n",
    "print(f\"{EVI_DATA_DIR.exists() = }\")\n"
   ]
  },
  {
   "cell_type": "code",
   "execution_count": 57,
   "metadata": {},
   "outputs": [
    {
     "name": "stdout",
     "output_type": "stream",
     "text": [
      "Found 83 evi files.\n",
      "Plotting converted-LC08_L2SP_043035_20140412_20200911_02_T1_SR_EVI_masked.tiff\n"
     ]
    },
    {
     "data": {
      "image/png": "[encoded data removed]",
      "text/plain": [
       "<Figure size 640x480 with 1 Axes>"
      ]
     },
     "metadata": {},
     "output_type": "display_data"
    },
    {
     "data": {
      "text/plain": [
       "<Axes: >"
      ]
     },
     "execution_count": 57,
     "metadata": {},
     "output_type": "execute_result"
    }
   ],
   "source": [
    "# lets visualize every step of inference.\n",
    "# starting with inputs\n",
    "\n",
    "evi_files = [f for f in EVI_DATA_DIR.glob(\"*.tiff\")]\n",
    "print(f\"Found {len(evi_files)} evi files.\")\n",
    "\n",
    "# pick one randomly \n",
    "ex_evi_file = np.random.choice(evi_files)\n",
    "print(f\"Plotting {ex_evi_file.name}\")\n",
    "\n",
    "rio_datareader = rasterio.open(ex_evi_file)\n",
    "raster_transform = rio_datareader.transform\n",
    "raster_crs = rio_datareader.crs\n",
    "rio_plot.show(rio_datareader)\n",
    "\n",
    "\n",
    "\n"
   ]
  },
  {
   "cell_type": "code",
   "execution_count": 59,
   "metadata": {},
   "outputs": [],
   "source": [
    "# define the polygon we are interested in (not tied directly to model)\n",
    "polygon_coords = np.array([\n",
    "    [100, 100],\n",
    "    [100, 200],\n",
    "    [200, 200],\n",
    "    [200, 100],\n",
    "    [100, 100]\n",
    "])\n",
    "\n",
    "polygon = Polygon(polygon_coords)\n",
    "polygon_area = polygon.area\n",
    "\n",
    "METERS_PER_SQR_PX = 30\n",
    "\n",
    "polygon_area_acres = polygon_area * METERS_PER_SQR_PX\n",
    "\n",
    "\n",
    "\n"
   ]
  },
  {
   "cell_type": "code",
   "execution_count": null,
   "metadata": {},
   "outputs": [],
   "source": [
    "# get the time index information we need\n",
    "from pathlib import Path\n",
    "from utils import process_yield_data\n",
    "YIELD_DATA_PATH = Path(\"./combined_yield_data.csv\")\n",
    "\n",
    "yield_data_weekly = process_yield_data(YIELD_DATA_PATH)\n",
    "\n",
    "\n",
    "start_date = pd.to_datetime(\"2022-07-01\")"
   ]
  }
 ],
 "metadata": {
  "kernelspec": {
   "display_name": "agrisense-train",
   "language": "python",
   "name": "python3"
  },
  "language_info": {
   "codemirror_mode": {
    "name": "ipython",
    "version": 3
   },
   "file_extension": ".py",
   "mimetype": "text/x-python",
   "name": "python",
   "nbconvert_exporter": "python",
   "pygments_lexer": "ipython3",
   "version": "3.11.9"
  }
 },
 "nbformat": 4,
 "nbformat_minor": 2
}
