{
 "cells": [
  {
   "cell_type": "code",
   "execution_count": 25,
   "metadata": {},
   "outputs": [],
   "source": [
    "import boto3\n",
    "import rasterio\n",
    "import geojson\n",
    "import os\n",
    "\n",
    "from rasterio.io import MemoryFile\n",
    "from rasterio.mask import mask\n",
    "from shapely.geometry import shape\n",
    "import json\n",
    "\n",
    "\n",
    "from landsat_handler import retrieve_latest_images, retrieve_last_4_evi, retrieve_last_4_masked"
   ]
  },
  {
   "cell_type": "code",
   "execution_count": 26,
   "metadata": {},
   "outputs": [],
   "source": [
    "latest_file_names = retrieve_latest_images()\n",
    "last_4_evi = retrieve_last_4_evi()\n",
    "last_4_masked = retrieve_last_4_masked()"
   ]
  },
  {
   "cell_type": "code",
   "execution_count": 27,
   "metadata": {},
   "outputs": [],
   "source": [
    "s3_client = boto3.client('s3')\n"
   ]
  },
  {
   "cell_type": "code",
   "execution_count": 28,
   "metadata": {},
   "outputs": [],
   "source": [
    "def update_latest_evi_images(last_4_evi):\n",
    "    #download files to latest file directory\n",
    "    directory = './latest_evi_images/'\n",
    "    if not os.path.exists(directory):\n",
    "        os.makedirs(directory)\n",
    "    for image in last_4_evi:\n",
    "        fn = image.split('/')[1]\n",
    "        print(fn)\n",
    "        target_fp = directory+fn\n",
    "        print(target_fp)\n",
    "        if not os.path.exists(target_fp):\n",
    "            s3_client.download_file('agrisense3',image,target_fp)\n",
    "            print(f'Downloaded EVI Image for Inference: {target_fp}')\n",
    "        else:\n",
    "            print(f'File already exists: {target_fp}')\n",
    "\n",
    "    existing_files = os.listdir(directory)\n",
    "    last_4_evi_filenames = [image.split('/')[1] for image in last_4_evi]\n",
    "\n",
    "    for file_name in existing_files:\n",
    "        if file_name not in last_4_evi_filenames:\n",
    "            os.remove(directory+file_name)\n",
    "            print(f'Deleted out of date file: {file_name}')\n",
    "\n"
   ]
  },
  {
   "cell_type": "code",
   "execution_count": 29,
   "metadata": {},
   "outputs": [],
   "source": [
    "def update_latest_display_images(latest_file_names):\n",
    "    #download files to latest file directory\n",
    "    directory = './latest_display_images/'\n",
    "    if not os.path.exists(directory):\n",
    "        os.makedirs(directory)\n",
    "    for image in latest_file_names[:4]:\n",
    "        fn = image.split('/')[1]\n",
    "        print(fn)\n",
    "        target_fp = directory+fn\n",
    "        print(target_fp)\n",
    "        if not os.path.exists(target_fp):\n",
    "            s3_client.download_file('agrisense3',image,target_fp)\n",
    "            print(f'Downloaded user display image: {target_fp}')\n",
    "        else:\n",
    "            print(f'File already exists: {target_fp}')\n",
    "\n",
    "    existing_files = os.listdir(directory)\n",
    "    last_4_display_filenames = [image.split('/')[1] for image in latest_file_names[:4]]\n",
    "\n",
    "    for file_name in existing_files:\n",
    "        if file_name not in last_4_display_filenames:\n",
    "            os.remove(directory+file_name)\n",
    "            print(f'Deleted out of date file: {file_name}')"
   ]
  },
  {
   "cell_type": "code",
   "execution_count": null,
   "metadata": {},
   "outputs": [],
   "source": [
    "def update_latest_masked_images(last_4_masked):\n",
    "    #download files to latest file directory\n",
    "    directory = './latest_masked_evi/'\n",
    "    if not os.path.exists(directory):\n",
    "        os.makedirs(directory)\n",
    "    for image in last_4_masked:\n",
    "        fn = image.split('/')[1]\n",
    "        print(fn)\n",
    "        target_fp = directory+fn\n",
    "        print(target_fp)\n",
    "        if not os.path.exists(target_fp):\n",
    "            s3_client.download_file('agrisense3',image,target_fp)\n",
    "            print(f'Downloaded EVI Image for Inference: {target_fp}')\n",
    "        else:\n",
    "            print(f'File already exists: {target_fp}')\n",
    "\n",
    "    existing_files = os.listdir(directory)\n",
    "    last_4_masked_filenames = [image.split('/')[1] for image in last_4_masked]\n",
    "\n",
    "    for file_name in existing_files:\n",
    "        if file_name not in last_4_masked_filenames:\n",
    "            os.remove(directory+file_name)\n",
    "            print(f'Deleted out of date file: {file_name}')"
   ]
  },
  {
   "cell_type": "code",
   "execution_count": 30,
   "metadata": {},
   "outputs": [
    {
     "name": "stdout",
     "output_type": "stream",
     "text": [
      "LC09_L2SP_043035_20240602_20240603_02_T1_SR_EVI.tif\n",
      "./latest_evi_images/LC09_L2SP_043035_20240602_20240603_02_T1_SR_EVI.tif\n",
      "Downloaded EVI Image for Inference: ./latest_evi_images/LC09_L2SP_043035_20240602_20240603_02_T1_SR_EVI.tif\n",
      "LC08_L2SP_043035_20240525_20240610_02_T1_SR_EVI.tif\n",
      "./latest_evi_images/LC08_L2SP_043035_20240525_20240610_02_T1_SR_EVI.tif\n",
      "Downloaded EVI Image for Inference: ./latest_evi_images/LC08_L2SP_043035_20240525_20240610_02_T1_SR_EVI.tif\n",
      "LC09_L2SP_043035_20240517_20240518_02_T1_SR_EVI.tif\n",
      "./latest_evi_images/LC09_L2SP_043035_20240517_20240518_02_T1_SR_EVI.tif\n",
      "Downloaded EVI Image for Inference: ./latest_evi_images/LC09_L2SP_043035_20240517_20240518_02_T1_SR_EVI.tif\n",
      "LC08_L2SP_043035_20240509_20240514_02_T1_SR_EVI.tif\n",
      "./latest_evi_images/LC08_L2SP_043035_20240509_20240514_02_T1_SR_EVI.tif\n",
      "Downloaded EVI Image for Inference: ./latest_evi_images/LC08_L2SP_043035_20240509_20240514_02_T1_SR_EVI.tif\n",
      "LC09_L2SP_043035_20240602_20240603_02_T1_SR_EVI.tif\n",
      "./latest_display_images/LC09_L2SP_043035_20240602_20240603_02_T1_SR_EVI.tif\n",
      "Downloaded user display image: ./latest_display_images/LC09_L2SP_043035_20240602_20240603_02_T1_SR_EVI.tif\n",
      "LC09_L2SP_043035_20240618_20240619_02_T1_ST_B10.tif\n",
      "./latest_display_images/LC09_L2SP_043035_20240618_20240619_02_T1_ST_B10.tif\n",
      "Downloaded user display image: ./latest_display_images/LC09_L2SP_043035_20240618_20240619_02_T1_ST_B10.tif\n",
      "LC09_L2SP_043035_20240618_20240619_02_T1_SMI.tif\n",
      "./latest_display_images/LC09_L2SP_043035_20240618_20240619_02_T1_SMI.tif\n",
      "Downloaded user display image: ./latest_display_images/LC09_L2SP_043035_20240618_20240619_02_T1_SMI.tif\n",
      "LC09_L2SP_043035_20240618_20240619_02_T1_SR_MTVI2.tif\n",
      "./latest_display_images/LC09_L2SP_043035_20240618_20240619_02_T1_SR_MTVI2.tif\n",
      "Downloaded user display image: ./latest_display_images/LC09_L2SP_043035_20240618_20240619_02_T1_SR_MTVI2.tif\n"
     ]
    }
   ],
   "source": [
    "update_latest_evi_images(last_4_evi)\n",
    "update_latest_display_images(latest_file_names)"
   ]
  }
 ],
 "metadata": {
  "kernelspec": {
   "display_name": ".venv",
   "language": "python",
   "name": "python3"
  },
  "language_info": {
   "codemirror_mode": {
    "name": "ipython",
    "version": 3
   },
   "file_extension": ".py",
   "mimetype": "text/x-python",
   "name": "python",
   "nbconvert_exporter": "python",
   "pygments_lexer": "ipython3",
   "version": "3.11.9"
  }
 },
 "nbformat": 4,
 "nbformat_minor": 2
}
